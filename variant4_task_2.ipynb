{
 "cells": [
  {
   "cell_type": "code",
   "execution_count": 11,
   "id": "covered-interim",
   "metadata": {},
   "outputs": [
    {
     "name": "stdout",
     "output_type": "stream",
     "text": [
      "this is sorted by column\n",
      "[[ 1  2 13  8]\n",
      " [ 3 10 22  1]\n",
      " [ 5 34 25 67]\n",
      " [11  1  6 10]]\n",
      "Max num removed from each column\n",
      "[[ 1  2 13  8]\n",
      " [ 3 10 22  1]\n",
      " [ 5  1  6 10]]\n",
      "This is our second sorted array\n",
      "[[ 1  2  8 13]\n",
      " [ 3 10  1 22]\n",
      " [ 5  1 10  6]]\n"
     ]
    }
   ],
   "source": [
    "import numpy as np\n",
    "\n",
    "#sorted by sum of columns\n",
    "def sorting(a):\n",
    "   b = np.sum(a, axis = 0)\n",
    "   idx = b.argsort()\n",
    "   a = np.take(a, idx, axis=1)\n",
    "   return a\n",
    "\n",
    "#This function get the max of each column\n",
    "def getMaxCol(a):\n",
    "    idx = np.argmax(a, axis = 0)\n",
    "    return idx\n",
    "\n",
    "#Remove the largest Num\n",
    "def removeLargNum(idx, arr1):\n",
    "    k = np.arange(arr1.shape[0]) # original number of rows\n",
    "    rows = np.nonzero(k != idx[:, None])[1].reshape(-1, arr1.shape[0] - 1).T\n",
    "    cols = np.arange(arr1.shape[1])\n",
    "    arr2 = arr1[rows, cols]\n",
    "    return arr2\n",
    "    \n",
    "arr = [[1,2,13,8], [3,10,22,1],[5, 34, 25, 67], [11, 1, 6, 10]]\n",
    "\n",
    "print('this is sorted by column')\n",
    "print(sorting(arr))\n",
    "\n",
    "idx = getMaxCol(sorting(arr))\n",
    "arr2 = removeLargNum(idx, sorting(arr))\n",
    "\n",
    "print('Max num removed from each column')\n",
    "print(arr2)\n",
    "\n",
    "print('This is our second sorted array')\n",
    "print(sorting(arr2))\n"
   ]
  },
  {
   "cell_type": "code",
   "execution_count": null,
   "id": "serious-pollution",
   "metadata": {},
   "outputs": [],
   "source": []
  }
 ],
 "metadata": {
  "kernelspec": {
   "display_name": "Python 3",
   "language": "python",
   "name": "python3"
  },
  "language_info": {
   "codemirror_mode": {
    "name": "ipython",
    "version": 3
   },
   "file_extension": ".py",
   "mimetype": "text/x-python",
   "name": "python",
   "nbconvert_exporter": "python",
   "pygments_lexer": "ipython3",
   "version": "3.9.2"
  }
 },
 "nbformat": 4,
 "nbformat_minor": 5
}
