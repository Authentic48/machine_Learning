{
 "cells": [
  {
   "cell_type": "code",
   "execution_count": 1,
   "id": "consecutive-breathing",
   "metadata": {},
   "outputs": [
    {
     "name": "stdout",
     "output_type": "stream",
     "text": [
      "Nested List:\n",
      " [1, 2, [3, [4, [5]]]]\n",
      "Flattened List:\n",
      " [1, 2, 3, 4, 5]\n"
     ]
    }
   ],
   "source": [
    "# Python program to flatten a nested list\n",
    "  \n",
    "# explict function to flatten a\n",
    "# nested list\n",
    "def flattenList(nestedList):\n",
    "  \n",
    "    # check if list is empty\n",
    "    if not(bool(nestedList)):\n",
    "        return nestedList\n",
    "  \n",
    "     # to check instance of list is empty or not\n",
    "    if isinstance(nestedList[0], list):\n",
    "  \n",
    "        # call function with sublist as argument\n",
    "        return flattenList(*nestedList[:1]) + flattenList(nestedList[1:])\n",
    "  \n",
    "    # call function with sublist as argument\n",
    "    return nestedList[:1] + flattenList(nestedList[1:])\n",
    "  \n",
    "  \n",
    "# Driver Code\n",
    "nestedList = [1, 2, [3, [4, [5]]]]\n",
    "print('Nested List:\\n', nestedList)\n",
    "  \n",
    "print(\"Flattened List:\\n\", flattenList(nestedList))"
   ]
  },
  {
   "cell_type": "code",
   "execution_count": null,
   "id": "acquired-marina",
   "metadata": {},
   "outputs": [],
   "source": []
  }
 ],
 "metadata": {
  "kernelspec": {
   "display_name": "Python 3",
   "language": "python",
   "name": "python3"
  },
  "language_info": {
   "codemirror_mode": {
    "name": "ipython",
    "version": 3
   },
   "file_extension": ".py",
   "mimetype": "text/x-python",
   "name": "python",
   "nbconvert_exporter": "python",
   "pygments_lexer": "ipython3",
   "version": "3.9.2"
  }
 },
 "nbformat": 4,
 "nbformat_minor": 5
}
